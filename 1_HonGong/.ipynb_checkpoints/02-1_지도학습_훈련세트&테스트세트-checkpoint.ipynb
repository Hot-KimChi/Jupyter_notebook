{
 "cells": [
  {
   "cell_type": "markdown",
   "id": "945f1b48",
   "metadata": {},
   "source": [
    "# Target: 지도학습 and 비지도학습\n",
    ">샘플링 편향(sampling bias)\n",
    "\n",
    ">훈련세트 / 테스트세트 구분하여 훈련하기"
   ]
  },
  {
   "cell_type": "code",
   "execution_count": null,
   "id": "9724c80e",
   "metadata": {},
   "outputs": [],
   "source": []
  },
  {
   "cell_type": "code",
   "execution_count": null,
   "id": "0b58dda0",
   "metadata": {},
   "outputs": [],
   "source": []
  }
 ],
 "metadata": {
  "kernelspec": {
   "display_name": "Python 3 (ipykernel)",
   "language": "python",
   "name": "python3"
  },
  "language_info": {
   "codemirror_mode": {
    "name": "ipython",
    "version": 3
   },
   "file_extension": ".py",
   "mimetype": "text/x-python",
   "name": "python",
   "nbconvert_exporter": "python",
   "pygments_lexer": "ipython3",
   "version": "3.9.7"
  }
 },
 "nbformat": 4,
 "nbformat_minor": 5
}
