{
 "cells": [
  {
   "attachments": {
    "image.png": {
     "image/png": "[encoded data removed]"
    }
   },
   "cell_type": "markdown",
   "id": "847d41a7",
   "metadata": {},
   "source": [
    "#### Reference\n",
    "- https://www.youtube.com/watch?v=Q_MbN-vu_2w&t=10s\n",
    "- https://www.kaggle.com/competitions/bike-sharing-demand/overview/description\n",
    "- https://www.kaggle.com/code/viveksrinivasan/eda-ensemble-model-top-10-percentile\n",
    "\n",
    "-----\n",
    "\n",
    "### Target\n",
    "- 자전거의 대여량(count)을 예측하는 문제.\n",
    "\n",
    "### Approach\n",
    "- Regression approach로 접근하여 estimation.(not a classification)\n",
    "- 독립변수: count를 제외한 나머지의 parameter의 변수\n",
    "- 종속변수: count, 즉 대여횟수의 변수\n",
    "\n",
    "### Data Fields from kaggle\n",
    "- datetime - hourly date + timestamp  \n",
    "- season\n",
    "    - 1 = spring\n",
    "    - 2 = summer\n",
    "    - 3 = fall\n",
    "    - 4 = winter \n",
    "- holiday - whether the day is considered a holiday\n",
    "- workingday - whether the day is neither a weekend nor holiday\n",
    "- weather \n",
    "    - 1: Clear, Few clouds, Partly cloudy, Partly cloudy\n",
    "    - 2: Mist + Cloudy, Mist + Broken clouds, Mist + Few clouds, Mist\n",
    "    - 3: Light Snow, Light Rain + Thunderstorm + Scattered clouds, Light Rain + Scattered clouds\n",
    "    - 4: Heavy Rain + Ice Pallets + Thunderstorm + Mist, Snow + Fog \n",
    "- temp - temperature in Celsius\n",
    "- atemp - \"feels like\" temperature in Celsius\n",
    "- humidity - relative humidity\n",
    "- windspeed - wind speed\n",
    "- casual - number of non-registered user rentals initiated\n",
    "- registered - number of registered user rentals initiated\n",
    "- count - number of total rentals\n",
    "\n",
    "### Evaluation\n",
    "Submissions are evaluated one the Root Mean Squared Logarithmic Error (RMSLE). The RMSLE is calculated as\n",
    "![image.png](attachment:image.png)"
   ]
  },
  {
   "cell_type": "markdown",
   "id": "4ce9b2c7",
   "metadata": {},
   "source": [
    "## 1. 필요 라이브러리 import"
   ]
  },
  {
   "cell_type": "code",
   "execution_count": 23,
   "id": "2083ca50",
   "metadata": {},
   "outputs": [],
   "source": [
    "import pandas as pd\n",
    "import matplotlib.pyplot as plt\n",
    "import seaborn as sns\n",
    "import numpy as np\n",
    "from scipy.stats import norm\n",
    "from datetime import datetime\n",
    "from sklearn.preprocessing import StandardScaler\n",
    "from scipy import stats\n",
    "import warnings\n",
    "warnings.filterwarnings('ignore')\n",
    "%matplotlib inline\n",
    "\n",
    "# 그래프에서 격자로 숫자 범위가 눈에 잘 띄도록 ggplot 스타일을 사용\n",
    "plt.style.use('ggplot')"
   ]
  },
  {
   "cell_type": "markdown",
   "id": "98e63942",
   "metadata": {},
   "source": [
    "---------"
   ]
  },
  {
   "cell_type": "markdown",
   "id": "664e56a2",
   "metadata": {},
   "source": [
    "## 2. Collecting the data\n",
    "### train 데이터의 분석 using pandas"
   ]
  },
  {
   "cell_type": "code",
   "execution_count": 24,
   "id": "57245339",
   "metadata": {},
   "outputs": [],
   "source": [
    "df_train = pd.read_csv('./data/train.csv', parse_dates=['datetime'])\n",
    "df_test = pd.read_csv('./data/test.csv')\n",
    "\n",
    "## 아래처럼 datetime 으로 parameter 이름을 넘겨도 가능.\n",
    "## df_train = pd.read_csv('./data/train.csv', parse_dates=['datetime'])"
   ]
  },
  {
   "cell_type": "markdown",
   "id": "a4ccef50",
   "metadata": {},
   "source": [
    "---"
   ]
  },
  {
   "cell_type": "markdown",
   "id": "8e04296a",
   "metadata": {},
   "source": [
    "## [The Sequence of Analaysis]\n",
    "\n",
    "- Part1: Feature Engineering and Data Cleaning:\n",
    "    - 1) Adding any few features.\n",
    "    - 2) Removing redundant features.\n",
    "    - 3) Converting features into suitable form for modeling.\n",
    "\n",
    "\n",
    "- Part2: Exploratory Data Analysis(EDA):\n",
    "    - 1) Analysis of the features.\n",
    "    - 2) Finding any relations or trends considering multiple features.\n",
    "\n",
    "\n",
    "- Part3: Predictive Modeling"
   ]
  },
  {
   "cell_type": "markdown",
   "id": "e3f7d111",
   "metadata": {},
   "source": [
    "## Part1\n",
    "## Feature Engineering and Data Cleaning\n",
    "- 1) Adding any few features\n",
    "- 2) Removing redundant features\n",
    "- 3) Data Cleaning and Null Check\n",
    "- 4) Converting features into suitable form for modeling\n",
    "\n",
    "train dataset에서 앞에 5개만 출력해서 확인해 보자."
   ]
  },
  {
   "cell_type": "code",
   "execution_count": 25,
   "id": "087799d7",
   "metadata": {},
   "outputs": [
    {
     "data": {
      "text/html": [
       "<div>\n",
       "<style scoped>\n",
       "    .dataframe tbody tr th:only-of-type {\n",
       "        vertical-align: middle;\n",
       "    }\n",
       "\n",
       "    .dataframe tbody tr th {\n",
       "        vertical-align: top;\n",
       "    }\n",
       "\n",
       "    .dataframe thead th {\n",
       "        text-align: right;\n",
       "    }\n",
       "</style>\n",
       "<table border=\"1\" class=\"dataframe\">\n",
       "  <thead>\n",
       "    <tr style=\"text-align: right;\">\n",
       "      <th></th>\n",
       "      <th>datetime</th>\n",
       "      <th>season</th>\n",
       "      <th>holiday</th>\n",
       "      <th>workingday</th>\n",
       "      <th>weather</th>\n",
       "      <th>temp</th>\n",
       "      <th>atemp</th>\n",
       "      <th>humidity</th>\n",
       "      <th>windspeed</th>\n",
       "      <th>casual</th>\n",
       "      <th>registered</th>\n",
       "      <th>count</th>\n",
       "    </tr>\n",
       "  </thead>\n",
       "  <tbody>\n",
       "    <tr>\n",
       "      <th>0</th>\n",
       "      <td>2011-01-01 00:00:00</td>\n",
       "      <td>1</td>\n",
       "      <td>0</td>\n",
       "      <td>0</td>\n",
       "      <td>1</td>\n",
       "      <td>9.84</td>\n",
       "      <td>14.395</td>\n",
       "      <td>81</td>\n",
       "      <td>0.0</td>\n",
       "      <td>3</td>\n",
       "      <td>13</td>\n",
       "      <td>16</td>\n",
       "    </tr>\n",
       "    <tr>\n",
       "      <th>1</th>\n",
       "      <td>2011-01-01 01:00:00</td>\n",
       "      <td>1</td>\n",
       "      <td>0</td>\n",
       "      <td>0</td>\n",
       "      <td>1</td>\n",
       "      <td>9.02</td>\n",
       "      <td>13.635</td>\n",
       "      <td>80</td>\n",
       "      <td>0.0</td>\n",
       "      <td>8</td>\n",
       "      <td>32</td>\n",
       "      <td>40</td>\n",
       "    </tr>\n",
       "    <tr>\n",
       "      <th>2</th>\n",
       "      <td>2011-01-01 02:00:00</td>\n",
       "      <td>1</td>\n",
       "      <td>0</td>\n",
       "      <td>0</td>\n",
       "      <td>1</td>\n",
       "      <td>9.02</td>\n",
       "      <td>13.635</td>\n",
       "      <td>80</td>\n",
       "      <td>0.0</td>\n",
       "      <td>5</td>\n",
       "      <td>27</td>\n",
       "      <td>32</td>\n",
       "    </tr>\n",
       "    <tr>\n",
       "      <th>3</th>\n",
       "      <td>2011-01-01 03:00:00</td>\n",
       "      <td>1</td>\n",
       "      <td>0</td>\n",
       "      <td>0</td>\n",
       "      <td>1</td>\n",
       "      <td>9.84</td>\n",
       "      <td>14.395</td>\n",
       "      <td>75</td>\n",
       "      <td>0.0</td>\n",
       "      <td>3</td>\n",
       "      <td>10</td>\n",
       "      <td>13</td>\n",
       "    </tr>\n",
       "    <tr>\n",
       "      <th>4</th>\n",
       "      <td>2011-01-01 04:00:00</td>\n",
       "      <td>1</td>\n",
       "      <td>0</td>\n",
       "      <td>0</td>\n",
       "      <td>1</td>\n",
       "      <td>9.84</td>\n",
       "      <td>14.395</td>\n",
       "      <td>75</td>\n",
       "      <td>0.0</td>\n",
       "      <td>0</td>\n",
       "      <td>1</td>\n",
       "      <td>1</td>\n",
       "    </tr>\n",
       "  </tbody>\n",
       "</table>\n",
       "</div>"
      ],
      "text/plain": [
       "             datetime  season  holiday  workingday  weather  temp   atemp  \\\n",
       "0 2011-01-01 00:00:00       1        0           0        1  9.84  14.395   \n",
       "1 2011-01-01 01:00:00       1        0           0        1  9.02  13.635   \n",
       "2 2011-01-01 02:00:00       1        0           0        1  9.02  13.635   \n",
       "3 2011-01-01 03:00:00       1        0           0        1  9.84  14.395   \n",
       "4 2011-01-01 04:00:00       1        0           0        1  9.84  14.395   \n",
       "\n",
       "   humidity  windspeed  casual  registered  count  \n",
       "0        81        0.0       3          13     16  \n",
       "1        80        0.0       8          32     40  \n",
       "2        80        0.0       5          27     32  \n",
       "3        75        0.0       3          10     13  \n",
       "4        75        0.0       0           1      1  "
      ]
     },
     "execution_count": 25,
     "metadata": {},
     "output_type": "execute_result"
    }
   ],
   "source": [
    "df_train.head()"
   ]
  },
  {
   "cell_type": "markdown",
   "id": "ced796dd",
   "metadata": {},
   "source": [
    "### Data Dictionary\n",
    "- datetime - hourly date + timestamp  \n",
    "- season\n",
    "    - 1 = spring\n",
    "    - 2 = summer\n",
    "    - 3 = fall\n",
    "    - 4 = winter \n",
    "- holiday - whether the day is considered a holiday\n",
    "- workingday - whether the day is neither a weekend nor holiday\n",
    "- weather \n",
    "    - 1: Clear, Few clouds, Partly cloudy, Partly cloudy\n",
    "    - 2: Mist + Cloudy, Mist + Broken clouds, Mist + Few clouds, Mist\n",
    "    - 3: Light Snow, Light Rain + Thunderstorm + Scattered clouds, Light Rain + Scattered clouds\n",
    "    - 4: Heavy Rain + Ice Pallets + Thunderstorm + Mist, Snow + Fog \n",
    "- temp - temperature in Celsius\n",
    "- atemp - \"feels like\" temperature in Celsius\n",
    "- humidity - relative humidity\n",
    "- windspeed - wind speed\n",
    "- casual - number of non-registered user rentals initiated\n",
    "- registered - number of registered user rentals initiated\n",
    "- count - number of total rentals"
   ]
  },
  {
   "cell_type": "code",
   "execution_count": 26,
   "id": "d9840a71",
   "metadata": {},
   "outputs": [
    {
     "data": {
      "text/plain": [
       "(10886, 12)"
      ]
     },
     "execution_count": 26,
     "metadata": {},
     "output_type": "execute_result"
    }
   ],
   "source": [
    "df_train.shape"
   ]
  },
  {
   "cell_type": "markdown",
   "id": "b1ce968e",
   "metadata": {},
   "source": [
    "#### Total rows and columns\n",
    "Training dataset은 10886 rows & 12 columns 으로 구성되어 있다."
   ]
  },
  {
   "cell_type": "code",
   "execution_count": 27,
   "id": "0e5d3599",
   "metadata": {
    "scrolled": true
   },
   "outputs": [
    {
     "name": "stdout",
     "output_type": "stream",
     "text": [
      "<class 'pandas.core.frame.DataFrame'>\n",
      "RangeIndex: 10886 entries, 0 to 10885\n",
      "Data columns (total 12 columns):\n",
      " #   Column      Non-Null Count  Dtype         \n",
      "---  ------      --------------  -----         \n",
      " 0   datetime    10886 non-null  datetime64[ns]\n",
      " 1   season      10886 non-null  int64         \n",
      " 2   holiday     10886 non-null  int64         \n",
      " 3   workingday  10886 non-null  int64         \n",
      " 4   weather     10886 non-null  int64         \n",
      " 5   temp        10886 non-null  float64       \n",
      " 6   atemp       10886 non-null  float64       \n",
      " 7   humidity    10886 non-null  int64         \n",
      " 8   windspeed   10886 non-null  float64       \n",
      " 9   casual      10886 non-null  int64         \n",
      " 10  registered  10886 non-null  int64         \n",
      " 11  count       10886 non-null  int64         \n",
      "dtypes: datetime64[ns](1), float64(3), int64(8)\n",
      "memory usage: 1020.7 KB\n"
     ]
    }
   ],
   "source": [
    "df_train.info()"
   ]
  },
  {
   "cell_type": "code",
   "execution_count": 28,
   "id": "5e32e6f9",
   "metadata": {},
   "outputs": [
    {
     "data": {
      "text/plain": [
       "datetime      0\n",
       "season        0\n",
       "holiday       0\n",
       "workingday    0\n",
       "weather       0\n",
       "temp          0\n",
       "atemp         0\n",
       "humidity      0\n",
       "windspeed     0\n",
       "casual        0\n",
       "registered    0\n",
       "count         0\n",
       "dtype: int64"
      ]
     },
     "execution_count": 28,
     "metadata": {},
     "output_type": "execute_result"
    }
   ],
   "source": [
    "df_train.isnull().sum()"
   ]
  },
  {
   "cell_type": "markdown",
   "id": "e0014441",
   "metadata": {},
   "source": [
    "### Types of Features\n",
    "- Categorical Features\n",
    "    - 범주형 변수는 두 개 이상의 범주가 있는 변수이며 해당 기능의 각 값은 범주별로 분류될 수 있다. \n",
    "    - 예를 들어, 성별은 두 개의 범주(남성과 여성)가 있는 범주형 변수이다. \n",
    "    - 이러한 변수는 정렬하거나 순서를 정할 수 없다. Nominal 변수라고도 한다.\n",
    "\n",
    " **Categorical Features in the dataset: season, holiday, workingday, weather**\n",
    "\n",
    "\n",
    "- Ordinal Features\n",
    "    - 순서형 변수는 범주형 값과 유사하지만 두 값 사이에 상대적인 순서를 지정하거나 정렬할 수 있다.\n",
    "    - 예를 들어 높이와 같은 변수에 상대적 정렬을 가질 수 있다.\n",
    " \n",
    " **Ordinal Features in the dataset:**\n",
    "\n",
    "\n",
    "- Continous Feature\n",
    "    - 두 점 사이 또는 최소값 또는 최대값 사이의 값을 취할 수 있는 경우, 이러한 경우 특성을 연속적이라고 한다.\n",
    "\n",
    " **Continous Features in the dataset: temp, atemp, humidity, windspeed, casual, registered, count**"
   ]
  },
  {
   "cell_type": "markdown",
   "id": "97fb6e03",
   "metadata": {},
   "source": [
    "### Data Summary\n",
    "- 데이터의 누락이 없어 보이며, 11개의 columns을 가지고 있다.\n",
    "- datetime 열에서 **새로운 열** [year,\tmonth, day, hour, minute, second]을 생성한다.\n",
    "    - 이미 유용한 기능을 추출했으므로 datetime 열을 삭제\n",
    "- 하지만 season, holiday, workingday and weather는 int 타입이 아닌 **categorical** 이어야 한다."
   ]
  },
  {
   "cell_type": "markdown",
   "id": "93306f26",
   "metadata": {},
   "source": [
    "### 1) Adding any Few Features"
   ]
  },
  {
   "cell_type": "markdown",
   "id": "9669a1e9",
   "metadata": {},
   "source": [
    "#### a. 기존에 있는 datatime열에서 새로운 열 추출\n",
    "- 새로운 열 추출 후, datetime drop"
   ]
  },
  {
   "cell_type": "code",
   "execution_count": 29,
   "id": "2e69b409",
   "metadata": {},
   "outputs": [],
   "source": [
    "df_train[\"year\"] = df_train[\"datetime\"].dt.year\n",
    "df_train[\"month\"] = df_train[\"datetime\"].dt.month\n",
    "df_train[\"day\"] = df_train[\"datetime\"].dt.day\n",
    "df_train[\"hour\"] = df_train[\"datetime\"].dt.hour\n",
    "df_train[\"minute\"] = df_train[\"datetime\"].dt.minute\n",
    "df_train[\"second\"] = df_train[\"datetime\"].dt.second\n",
    "\n",
    "df_train = df_train.drop(['datetime'], axis=1)"
   ]
  },
  {
   "cell_type": "markdown",
   "id": "d5e7197b",
   "metadata": {},
   "source": [
    "#### b. Category type으로 변환"
   ]
  },
  {
   "cell_type": "code",
   "execution_count": 30,
   "id": "4225b319",
   "metadata": {},
   "outputs": [],
   "source": [
    "categoryVariableList = ['season', 'holiday', 'workingday', 'weather']\n",
    "for var in categoryVariableList:\n",
    "    df_train[var] = df_train[var].astype('category')"
   ]
  },
  {
   "cell_type": "code",
   "execution_count": 31,
   "id": "4770f0cb",
   "metadata": {},
   "outputs": [
    {
     "data": {
      "text/html": [
       "<div>\n",
       "<style scoped>\n",
       "    .dataframe tbody tr th:only-of-type {\n",
       "        vertical-align: middle;\n",
       "    }\n",
       "\n",
       "    .dataframe tbody tr th {\n",
       "        vertical-align: top;\n",
       "    }\n",
       "\n",
       "    .dataframe thead th {\n",
       "        text-align: right;\n",
       "    }\n",
       "</style>\n",
       "<table border=\"1\" class=\"dataframe\">\n",
       "  <thead>\n",
       "    <tr style=\"text-align: right;\">\n",
       "      <th></th>\n",
       "      <th>season</th>\n",
       "      <th>holiday</th>\n",
       "      <th>workingday</th>\n",
       "      <th>weather</th>\n",
       "      <th>temp</th>\n",
       "      <th>atemp</th>\n",
       "      <th>humidity</th>\n",
       "      <th>windspeed</th>\n",
       "      <th>casual</th>\n",
       "      <th>registered</th>\n",
       "      <th>count</th>\n",
       "      <th>year</th>\n",
       "      <th>month</th>\n",
       "      <th>day</th>\n",
       "      <th>hour</th>\n",
       "      <th>minute</th>\n",
       "      <th>second</th>\n",
       "    </tr>\n",
       "  </thead>\n",
       "  <tbody>\n",
       "    <tr>\n",
       "      <th>0</th>\n",
       "      <td>1</td>\n",
       "      <td>0</td>\n",
       "      <td>0</td>\n",
       "      <td>1</td>\n",
       "      <td>9.84</td>\n",
       "      <td>14.395</td>\n",
       "      <td>81</td>\n",
       "      <td>0.0</td>\n",
       "      <td>3</td>\n",
       "      <td>13</td>\n",
       "      <td>16</td>\n",
       "      <td>2011</td>\n",
       "      <td>1</td>\n",
       "      <td>1</td>\n",
       "      <td>0</td>\n",
       "      <td>0</td>\n",
       "      <td>0</td>\n",
       "    </tr>\n",
       "    <tr>\n",
       "      <th>1</th>\n",
       "      <td>1</td>\n",
       "      <td>0</td>\n",
       "      <td>0</td>\n",
       "      <td>1</td>\n",
       "      <td>9.02</td>\n",
       "      <td>13.635</td>\n",
       "      <td>80</td>\n",
       "      <td>0.0</td>\n",
       "      <td>8</td>\n",
       "      <td>32</td>\n",
       "      <td>40</td>\n",
       "      <td>2011</td>\n",
       "      <td>1</td>\n",
       "      <td>1</td>\n",
       "      <td>1</td>\n",
       "      <td>0</td>\n",
       "      <td>0</td>\n",
       "    </tr>\n",
       "    <tr>\n",
       "      <th>2</th>\n",
       "      <td>1</td>\n",
       "      <td>0</td>\n",
       "      <td>0</td>\n",
       "      <td>1</td>\n",
       "      <td>9.02</td>\n",
       "      <td>13.635</td>\n",
       "      <td>80</td>\n",
       "      <td>0.0</td>\n",
       "      <td>5</td>\n",
       "      <td>27</td>\n",
       "      <td>32</td>\n",
       "      <td>2011</td>\n",
       "      <td>1</td>\n",
       "      <td>1</td>\n",
       "      <td>2</td>\n",
       "      <td>0</td>\n",
       "      <td>0</td>\n",
       "    </tr>\n",
       "    <tr>\n",
       "      <th>3</th>\n",
       "      <td>1</td>\n",
       "      <td>0</td>\n",
       "      <td>0</td>\n",
       "      <td>1</td>\n",
       "      <td>9.84</td>\n",
       "      <td>14.395</td>\n",
       "      <td>75</td>\n",
       "      <td>0.0</td>\n",
       "      <td>3</td>\n",
       "      <td>10</td>\n",
       "      <td>13</td>\n",
       "      <td>2011</td>\n",
       "      <td>1</td>\n",
       "      <td>1</td>\n",
       "      <td>3</td>\n",
       "      <td>0</td>\n",
       "      <td>0</td>\n",
       "    </tr>\n",
       "    <tr>\n",
       "      <th>4</th>\n",
       "      <td>1</td>\n",
       "      <td>0</td>\n",
       "      <td>0</td>\n",
       "      <td>1</td>\n",
       "      <td>9.84</td>\n",
       "      <td>14.395</td>\n",
       "      <td>75</td>\n",
       "      <td>0.0</td>\n",
       "      <td>0</td>\n",
       "      <td>1</td>\n",
       "      <td>1</td>\n",
       "      <td>2011</td>\n",
       "      <td>1</td>\n",
       "      <td>1</td>\n",
       "      <td>4</td>\n",
       "      <td>0</td>\n",
       "      <td>0</td>\n",
       "    </tr>\n",
       "  </tbody>\n",
       "</table>\n",
       "</div>"
      ],
      "text/plain": [
       "  season holiday workingday weather  temp   atemp  humidity  windspeed  \\\n",
       "0      1       0          0       1  9.84  14.395        81        0.0   \n",
       "1      1       0          0       1  9.02  13.635        80        0.0   \n",
       "2      1       0          0       1  9.02  13.635        80        0.0   \n",
       "3      1       0          0       1  9.84  14.395        75        0.0   \n",
       "4      1       0          0       1  9.84  14.395        75        0.0   \n",
       "\n",
       "   casual  registered  count  year  month  day  hour  minute  second  \n",
       "0       3          13     16  2011      1    1     0       0       0  \n",
       "1       8          32     40  2011      1    1     1       0       0  \n",
       "2       5          27     32  2011      1    1     2       0       0  \n",
       "3       3          10     13  2011      1    1     3       0       0  \n",
       "4       0           1      1  2011      1    1     4       0       0  "
      ]
     },
     "execution_count": 31,
     "metadata": {},
     "output_type": "execute_result"
    }
   ],
   "source": [
    "df_train.head()"
   ]
  },
  {
   "cell_type": "code",
   "execution_count": 32,
   "id": "710e1330",
   "metadata": {},
   "outputs": [
    {
     "name": "stdout",
     "output_type": "stream",
     "text": [
      "<class 'pandas.core.frame.DataFrame'>\n",
      "RangeIndex: 10886 entries, 0 to 10885\n",
      "Data columns (total 17 columns):\n",
      " #   Column      Non-Null Count  Dtype   \n",
      "---  ------      --------------  -----   \n",
      " 0   season      10886 non-null  category\n",
      " 1   holiday     10886 non-null  category\n",
      " 2   workingday  10886 non-null  category\n",
      " 3   weather     10886 non-null  category\n",
      " 4   temp        10886 non-null  float64 \n",
      " 5   atemp       10886 non-null  float64 \n",
      " 6   humidity    10886 non-null  int64   \n",
      " 7   windspeed   10886 non-null  float64 \n",
      " 8   casual      10886 non-null  int64   \n",
      " 9   registered  10886 non-null  int64   \n",
      " 10  count       10886 non-null  int64   \n",
      " 11  year        10886 non-null  int64   \n",
      " 12  month       10886 non-null  int64   \n",
      " 13  day         10886 non-null  int64   \n",
      " 14  hour        10886 non-null  int64   \n",
      " 15  minute      10886 non-null  int64   \n",
      " 16  second      10886 non-null  int64   \n",
      "dtypes: category(4), float64(3), int64(10)\n",
      "memory usage: 1.1 MB\n"
     ]
    }
   ],
   "source": [
    "df_train.info()"
   ]
  },
  {
   "cell_type": "markdown",
   "id": "39ed55cf",
   "metadata": {},
   "source": [
    "### 2) Removing redundant features"
   ]
  },
  {
   "cell_type": "code",
   "execution_count": 33,
   "id": "cd0e8a7e",
   "metadata": {},
   "outputs": [
    {
     "name": "stdout",
     "output_type": "stream",
     "text": [
      "[ 0  1  2  3  4  5  6  7  8  9 10 11 12 13 14 15 16 17 18 19 20 21 22 23]\n",
      "[0]\n",
      "[0]\n"
     ]
    }
   ],
   "source": [
    "print(df_train['hour'].unique())\n",
    "print(df_train['minute'].unique())\n",
    "print(df_train['second'].unique())"
   ]
  },
  {
   "cell_type": "markdown",
   "id": "b2053d8c",
   "metadata": {},
   "source": [
    "- [minute] / [second] 에 데이터가 모두 0이기에 삭제"
   ]
  },
  {
   "cell_type": "code",
   "execution_count": 34,
   "id": "b6c813b1",
   "metadata": {},
   "outputs": [],
   "source": [
    "df_train = df_train.drop(['minute'], axis=1)\n",
    "df_train = df_train.drop(['second'], axis=1)"
   ]
  },
  {
   "cell_type": "code",
   "execution_count": 35,
   "id": "f3cd73d5",
   "metadata": {},
   "outputs": [
    {
     "data": {
      "text/html": [
       "<div>\n",
       "<style scoped>\n",
       "    .dataframe tbody tr th:only-of-type {\n",
       "        vertical-align: middle;\n",
       "    }\n",
       "\n",
       "    .dataframe tbody tr th {\n",
       "        vertical-align: top;\n",
       "    }\n",
       "\n",
       "    .dataframe thead th {\n",
       "        text-align: right;\n",
       "    }\n",
       "</style>\n",
       "<table border=\"1\" class=\"dataframe\">\n",
       "  <thead>\n",
       "    <tr style=\"text-align: right;\">\n",
       "      <th></th>\n",
       "      <th>season</th>\n",
       "      <th>holiday</th>\n",
       "      <th>workingday</th>\n",
       "      <th>weather</th>\n",
       "      <th>temp</th>\n",
       "      <th>atemp</th>\n",
       "      <th>humidity</th>\n",
       "      <th>windspeed</th>\n",
       "      <th>casual</th>\n",
       "      <th>registered</th>\n",
       "      <th>count</th>\n",
       "      <th>year</th>\n",
       "      <th>month</th>\n",
       "      <th>day</th>\n",
       "      <th>hour</th>\n",
       "    </tr>\n",
       "  </thead>\n",
       "  <tbody>\n",
       "    <tr>\n",
       "      <th>0</th>\n",
       "      <td>1</td>\n",
       "      <td>0</td>\n",
       "      <td>0</td>\n",
       "      <td>1</td>\n",
       "      <td>9.84</td>\n",
       "      <td>14.395</td>\n",
       "      <td>81</td>\n",
       "      <td>0.0</td>\n",
       "      <td>3</td>\n",
       "      <td>13</td>\n",
       "      <td>16</td>\n",
       "      <td>2011</td>\n",
       "      <td>1</td>\n",
       "      <td>1</td>\n",
       "      <td>0</td>\n",
       "    </tr>\n",
       "    <tr>\n",
       "      <th>1</th>\n",
       "      <td>1</td>\n",
       "      <td>0</td>\n",
       "      <td>0</td>\n",
       "      <td>1</td>\n",
       "      <td>9.02</td>\n",
       "      <td>13.635</td>\n",
       "      <td>80</td>\n",
       "      <td>0.0</td>\n",
       "      <td>8</td>\n",
       "      <td>32</td>\n",
       "      <td>40</td>\n",
       "      <td>2011</td>\n",
       "      <td>1</td>\n",
       "      <td>1</td>\n",
       "      <td>1</td>\n",
       "    </tr>\n",
       "    <tr>\n",
       "      <th>2</th>\n",
       "      <td>1</td>\n",
       "      <td>0</td>\n",
       "      <td>0</td>\n",
       "      <td>1</td>\n",
       "      <td>9.02</td>\n",
       "      <td>13.635</td>\n",
       "      <td>80</td>\n",
       "      <td>0.0</td>\n",
       "      <td>5</td>\n",
       "      <td>27</td>\n",
       "      <td>32</td>\n",
       "      <td>2011</td>\n",
       "      <td>1</td>\n",
       "      <td>1</td>\n",
       "      <td>2</td>\n",
       "    </tr>\n",
       "    <tr>\n",
       "      <th>3</th>\n",
       "      <td>1</td>\n",
       "      <td>0</td>\n",
       "      <td>0</td>\n",
       "      <td>1</td>\n",
       "      <td>9.84</td>\n",
       "      <td>14.395</td>\n",
       "      <td>75</td>\n",
       "      <td>0.0</td>\n",
       "      <td>3</td>\n",
       "      <td>10</td>\n",
       "      <td>13</td>\n",
       "      <td>2011</td>\n",
       "      <td>1</td>\n",
       "      <td>1</td>\n",
       "      <td>3</td>\n",
       "    </tr>\n",
       "    <tr>\n",
       "      <th>4</th>\n",
       "      <td>1</td>\n",
       "      <td>0</td>\n",
       "      <td>0</td>\n",
       "      <td>1</td>\n",
       "      <td>9.84</td>\n",
       "      <td>14.395</td>\n",
       "      <td>75</td>\n",
       "      <td>0.0</td>\n",
       "      <td>0</td>\n",
       "      <td>1</td>\n",
       "      <td>1</td>\n",
       "      <td>2011</td>\n",
       "      <td>1</td>\n",
       "      <td>1</td>\n",
       "      <td>4</td>\n",
       "    </tr>\n",
       "  </tbody>\n",
       "</table>\n",
       "</div>"
      ],
      "text/plain": [
       "  season holiday workingday weather  temp   atemp  humidity  windspeed  \\\n",
       "0      1       0          0       1  9.84  14.395        81        0.0   \n",
       "1      1       0          0       1  9.02  13.635        80        0.0   \n",
       "2      1       0          0       1  9.02  13.635        80        0.0   \n",
       "3      1       0          0       1  9.84  14.395        75        0.0   \n",
       "4      1       0          0       1  9.84  14.395        75        0.0   \n",
       "\n",
       "   casual  registered  count  year  month  day  hour  \n",
       "0       3          13     16  2011      1    1     0  \n",
       "1       8          32     40  2011      1    1     1  \n",
       "2       5          27     32  2011      1    1     2  \n",
       "3       3          10     13  2011      1    1     3  \n",
       "4       0           1      1  2011      1    1     4  "
      ]
     },
     "execution_count": 35,
     "metadata": {},
     "output_type": "execute_result"
    }
   ],
   "source": [
    "df_train.head()"
   ]
  },
  {
   "cell_type": "markdown",
   "id": "9ea6291a",
   "metadata": {},
   "source": [
    "### 3) Data Cleaning and Null Check\n",
    "- 데이터와 열에 익숙해지면 다음 단계는 일반적으로 데이터에 누락된 값이 있는지 확인\n",
    "- 일반적으로 데이터 세트에서 누락된 값을 시각화하는 것을 선호하는 한 가지 방법은 \"missingno\"를 사용"
   ]
  },
  {
   "cell_type": "code",
   "execution_count": 39,
   "id": "99a1289e",
   "metadata": {},
   "outputs": [
    {
     "data": {
      "text/plain": [
       "<AxesSubplot:>"
      ]
     },
     "execution_count": 39,
     "metadata": {},
     "output_type": "execute_result"
    },
    {
     "data": {
      "image/png": "[encoded data removed]",
      "text/plain": [
       "<Figure size 864x360 with 2 Axes>"
      ]
     },
     "metadata": {},
     "output_type": "display_data"
    }
   ],
   "source": [
    "import missingno as msno\n",
    "msno.matrix(df_train, figsize=(12,5))"
   ]
  },
  {
   "cell_type": "markdown",
   "id": "5deaa3b3",
   "metadata": {},
   "source": [
    "## Part2\n",
    "## Exploratory Data Analysis(EDA)\n",
    "- 1) Analysis of the features.\n",
    "- 2) Finding any relations or trends considering multiple features."
   ]
  },
  {
   "cell_type": "markdown",
   "id": "a820eca8",
   "metadata": {},
   "source": [
    "### 1) Analysis of the Features\n",
    "- Target Analysis"
   ]
  },
  {
   "cell_type": "code",
   "execution_count": 44,
   "id": "decdaea0",
   "metadata": {},
   "outputs": [
    {
     "data": {
      "text/plain": [
       "count    10886.000000\n",
       "mean       191.574132\n",
       "std        181.144454\n",
       "min          1.000000\n",
       "25%         42.000000\n",
       "50%        145.000000\n",
       "75%        284.000000\n",
       "max        977.000000\n",
       "Name: count, dtype: float64"
      ]
     },
     "execution_count": 44,
     "metadata": {},
     "output_type": "execute_result"
    },
    {
     "data": {
      "image/png": "[encoded data removed]",
      "text/plain": [
       "<Figure size 360x360 with 1 Axes>"
      ]
     },
     "metadata": {},
     "output_type": "display_data"
    }
   ],
   "source": [
    "sns.displot(df_train['count'])\n",
    "df_train['count'].describe()"
   ]
  },
  {
   "cell_type": "code",
   "execution_count": 43,
   "id": "b6eeb13a",
   "metadata": {},
   "outputs": [
    {
     "data": {
      "text/plain": [
       "<AxesSubplot:xlabel='count', ylabel='Density'>"
      ]
     },
     "execution_count": 43,
     "metadata": {},
     "output_type": "execute_result"
    },
    {
     "data": {
      "image/png": "[encoded data removed]",
      "text/plain": [
       "<Figure size 432x288 with 1 Axes>"
      ]
     },
     "metadata": {},
     "output_type": "display_data"
    }
   ],
   "source": [
    "sns.distplot(df_train['count'])"
   ]
  },
  {
   "cell_type": "markdown",
   "id": "7afae131",
   "metadata": {},
   "source": [
    "### 1) Analysing The Features\n",
    "#### Bar Chart for Categorical Features\n",
    "- season\n",
    "- holiday\n",
    "- workingday\n",
    "- weather\n",
    "- temp\n",
    "- atemp\n",
    "- humidity\n",
    "- windspeed\n",
    "- casual\n",
    "- registered"
   ]
  },
  {
   "cell_type": "code",
   "execution_count": 8,
   "id": "a64c8ddc",
   "metadata": {},
   "outputs": [
    {
     "data": {
      "text/plain": [
       "<AxesSubplot:xlabel='humidity', ylabel='count'>"
      ]
     },
     "execution_count": 8,
     "metadata": {},
     "output_type": "execute_result"
    },
    {
     "data": {
      "image/png": "[encoded data removed]",
      "text/plain": [
       "<Figure size 1296x576 with 6 Axes>"
      ]
     },
     "metadata": {},
     "output_type": "display_data"
    }
   ],
   "source": [
    "figure, ((ax1,ax2,ax3), (ax4,ax5,ax6)) = plt.subplots(nrows=2, ncols=3)\n",
    "figure.set_size_inches(18,8)\n",
    "\n",
    "sns.barplot(data=df_train, x=\"season\", y=\"count\", ax=ax1)\n",
    "sns.barplot(data=df_train, x=\"holiday\", y=\"count\", ax=ax2)\n",
    "sns.barplot(data=df_train, x=\"workingday\", y=\"count\", ax=ax3)\n",
    "sns.barplot(data=df_train, x=\"weather\", y=\"count\", ax=ax4)\n",
    "sns.barplot(data=df_train, x=\"temp\", y=\"count\", ax=ax5)\n",
    "sns.barplot(data=df_train, x=\"humidity\", y=\"count\", ax=ax6)"
   ]
  },
  {
   "cell_type": "markdown",
   "id": "ea3fde2b",
   "metadata": {},
   "source": [
    "### a. Python lib for visualization"
   ]
  }
 ],
 "metadata": {
  "kernelspec": {
   "display_name": "Python 3 (ipykernel)",
   "language": "python",
   "name": "python3"
  },
  "language_info": {
   "codemirror_mode": {
    "name": "ipython",
    "version": 3
   },
   "file_extension": ".py",
   "mimetype": "text/x-python",
   "name": "python",
   "nbconvert_exporter": "python",
   "pygments_lexer": "ipython3",
   "version": "3.7.9"
  }
 },
 "nbformat": 4,
 "nbformat_minor": 5
}
