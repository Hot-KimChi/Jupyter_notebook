{
 "cells": [
  {
   "cell_type": "markdown",
   "id": "64218f29",
   "metadata": {},
   "source": [
    "### 데이터를 아는 것이 데이터 과학에서 가장 어려운 일이라고 말하지는 않겠지만, 데이터를 이해하는 데 시간이 많이 걸림\n",
    "### 따라서 이 초기 단계를 간과하고 너무 빨리 물 속으로 뛰어들기 쉽기에 차분히 확인하는 습관이 필요하다.\n",
    "- 1. 문제를 이해: 각 변수를 살펴보고 이 문제에 대한 의미와 중요성 분석\n",
    "- 2. Univariable 연구: 종속 변수('SalePrice')에 초점을 맞추고 그것에 대해 조금 더 이해하려고 노력\n",
    "    - 하나의 종속변수를 설명하는 한 개의 독립변수가 있다면 Univariable.\n",
    "- 3. Multivariate 연구: 종속변수와 독립변수가 어떻게 관련되는지 이해하려고 노력\n",
    "    - 하나의 종속변수를 설명하는 여러 개의 독립변수가 있다면 Multivariable.\n",
    "- 4. Basic cleaning: 데이터 세트를 정리하고 누락된 데이터, 이상값 및 범주형 변수를 처리\n",
    "- 5. 가정을 테스트: 데이터가 build한 모델에 맞추어 가정과 차이가 없는 지 확인."
   ]
  },
  {
   "cell_type": "code",
   "execution_count": null,
   "id": "aa9918a5",
   "metadata": {},
   "outputs": [],
   "source": []
  },
  {
   "cell_type": "code",
   "execution_count": null,
   "id": "9258ed4b",
   "metadata": {},
   "outputs": [],
   "source": []
  }
 ],
 "metadata": {
  "kernelspec": {
   "display_name": "Python 3 (ipykernel)",
   "language": "python",
   "name": "python3"
  },
  "language_info": {
   "codemirror_mode": {
    "name": "ipython",
    "version": 3
   },
   "file_extension": ".py",
   "mimetype": "text/x-python",
   "name": "python",
   "nbconvert_exporter": "python",
   "pygments_lexer": "ipython3",
   "version": "3.7.9"
  }
 },
 "nbformat": 4,
 "nbformat_minor": 5
}
