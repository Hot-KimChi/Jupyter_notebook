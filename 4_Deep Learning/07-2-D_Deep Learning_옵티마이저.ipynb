{
 "cells": [
  {
   "cell_type": "markdown",
   "id": "7a5b241f",
   "metadata": {},
   "source": [
    "### 하이퍼파리미터\n",
    "- 모델이 학습하지 않아 사람이 지정해 주어야 하는 파라미터\n",
    "- 각종 하이퍼파라미터의 최적값을 찾는 것은 어려운 일이다.\n",
    "- 신경망에는 특히 하이퍼파라미터가 많다.\n",
    "    - 은닉층의 개수\n",
    "    - 은닉층의 뉴런 개수\n",
    "    - 활성화 함수\n",
    "    - 층의 종류\n",
    "    - 미니배치 개수(batch_size 매개변수)\n",
    "    - epochs 매개변수\n",
    "    - compile() 메서드: 케라스의 기본 경사 하강법 알고리즘(RMSprop)\n",
    "        - 다양한 종류의 경사 하강법 알고리즘 제공 ==> **옵티마이저**\n",
    "        - 가장 기본적인 옵티마이저 ==> 확률적 경사 하강법 SGD(기본적으로 미니배치)\n",
    "    - 위의 알고리즘의 학습률"
   ]
  }
 ],
 "metadata": {
  "kernelspec": {
   "display_name": "Python 3 (ipykernel)",
   "language": "python",
   "name": "python3"
  },
  "language_info": {
   "codemirror_mode": {
    "name": "ipython",
    "version": 3
   },
   "file_extension": ".py",
   "mimetype": "text/x-python",
   "name": "python",
   "nbconvert_exporter": "python",
   "pygments_lexer": "ipython3",
   "version": "3.7.9"
  }
 },
 "nbformat": 4,
 "nbformat_minor": 5
}
