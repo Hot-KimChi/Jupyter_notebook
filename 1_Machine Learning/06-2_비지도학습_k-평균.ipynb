{
 "cells": [
  {
   "cell_type": "markdown",
   "id": "a3c1f047",
   "metadata": {},
   "source": [
    "# 목표: k-평균 알고리즘의 작동 방식 이해, 과일 사진을 자동으로 모으기."
   ]
  },
  {
   "cell_type": "markdown",
   "id": "a37eed1b",
   "metadata": {},
   "source": [
    ">### 06_1 절에서 과일들의 각 픽셀의 평균값 & Target을 통해 구분\n",
    ">### 진짜 비지도 학습일 경우 어떻게 문제 해석 및 해결 => 어떻게 평균값을 유추할지"
   ]
  },
  {
   "cell_type": "markdown",
   "id": "c1c67705",
   "metadata": {},
   "source": [
    ">### k-평균  군집 알고리즘을 이용하고 평균값 자동으로 추출.\n",
    ">### 이 평균값이 클러스터의 중심에 위치, 때문에 클러스터 중심 또는 센트로이드"
   ]
  }
 ],
 "metadata": {
  "kernelspec": {
   "display_name": "Python 3 (ipykernel)",
   "language": "python",
   "name": "python3"
  },
  "language_info": {
   "codemirror_mode": {
    "name": "ipython",
    "version": 3
   },
   "file_extension": ".py",
   "mimetype": "text/x-python",
   "name": "python",
   "nbconvert_exporter": "python",
   "pygments_lexer": "ipython3",
   "version": "3.7.9"
  }
 },
 "nbformat": 4,
 "nbformat_minor": 5
}
