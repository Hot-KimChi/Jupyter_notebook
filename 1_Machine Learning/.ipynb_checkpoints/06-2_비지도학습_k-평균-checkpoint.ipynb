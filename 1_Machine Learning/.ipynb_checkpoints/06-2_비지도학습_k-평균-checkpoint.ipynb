{
 "cells": [
  {
   "cell_type": "markdown",
   "id": "a3c1f047",
   "metadata": {},
   "source": [
    "# 목표: k-평균 알고리즘의 작동 방식 이해, 과일 사진을 자동으로 모으기."
   ]
  },
  {
   "cell_type": "code",
   "execution_count": null,
   "id": "8ec79efd",
   "metadata": {},
   "outputs": [],
   "source": []
  }
 ],
 "metadata": {
  "kernelspec": {
   "display_name": "Python 3 (ipykernel)",
   "language": "python",
   "name": "python3"
  },
  "language_info": {
   "codemirror_mode": {
    "name": "ipython",
    "version": 3
   },
   "file_extension": ".py",
   "mimetype": "text/x-python",
   "name": "python",
   "nbconvert_exporter": "python",
   "pygments_lexer": "ipython3",
   "version": "3.7.9"
  }
 },
 "nbformat": 4,
 "nbformat_minor": 5
}
