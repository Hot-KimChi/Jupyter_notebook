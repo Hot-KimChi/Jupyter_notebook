{
 "cells": [
  {
   "cell_type": "markdown",
   "id": "23fdbfce",
   "metadata": {},
   "source": [
    "### 1) make blobs는 대표적인 군집화용 데이터 생성기\n",
    "### 2) make blobs는 개별 군집의 중심점과 표준 편차 제어 기능이 추가\n",
    "    a) n_samples = 데이터의 개수\n",
    "    b) n_features = 열의 개수\n",
    "    c) centers = 군집의 개수\n",
    "    d) cluster_std = 생성될 군집의 표준편차"
   ]
  },
  {
   "cell_type": "code",
   "execution_count": 2,
   "id": "02f01837",
   "metadata": {},
   "outputs": [
    {
     "data": {
      "image/png": "[encoded data removed]",
      "text/plain": [
       "<Figure size 432x288 with 1 Axes>"
      ]
     },
     "metadata": {
      "needs_background": "light"
     },
     "output_type": "display_data"
    }
   ],
   "source": [
    "from sklearn.datasets import make_blobs\n",
    "\n",
    "data, target = make_blobs(n_samples=150,\n",
    "                         n_features=2,\n",
    "                         centers=3,\n",
    "                         cluster_std=0.5,\n",
    "                         shuffle=True,\n",
    "                         random_state=0)\n",
    "\n",
    "import matplotlib.pyplot as plt\n",
    "## s 매개변수는 마커의 size 결정.\n",
    "plt.scatter(data[:,0], data[:,1], c='white', marker='o', edgecolor='black', s=50)\n",
    "\n",
    "plt.grid()\n",
    "## 자동으로 명시된 여백에 관련된 서브플롯 파라미터 조정.\n",
    "plt.tight_layout()\n",
    "plt.show()"
   ]
  },
  {
   "cell_type": "markdown",
   "id": "698669b4",
   "metadata": {},
   "source": [
    "### KMeans 다음의 4단계로 요약.\n",
    "    1) 샘플 포인트에서 램덤하게 k개의 센트로이드를 초기 클러스터 중심으로 선택.\n",
    "    2) 각 샘플을 가장 가까운 센트로이드에 할당.(평균값)\n",
    "    3) 할당된 샘플들의 중심으로 센트로이드 이동\n",
    "    4) 클러스터 할당이 변하지 않거나 사용자가 지정한 허용 오차나 최대 반복 횟수에 도달할 때까지 2번 3번 반복"
   ]
  },
  {
   "cell_type": "markdown",
   "id": "048a5c14",
   "metadata": {},
   "source": [
    "### 샘플 간의 유사도는 어떻게 측정\n",
    "### 유클리디안 거리의 제곱(연속적인 특성을 가진 샘플을 클러스터로 묶는다.)\n",
    "    1) 클러스터 내 제곱 오차합(SSE)\n",
    "    2) 클러스터 관성을 반복적으로 최소화."
   ]
  },
  {
   "cell_type": "code",
   "execution_count": 3,
   "id": "eefc45ed",
   "metadata": {},
   "outputs": [
    {
     "name": "stdout",
     "output_type": "stream",
     "text": [
      "[1 0 0 0 1 0 0 1 2 0 1 2 2 0 0 2 2 1 2 1 0 1 0 0 2 1 1 0 2 1 2 2 2 2 0 1 1\n",
      " 1 0 0 2 2 0 1 1 1 2 0 2 0 1 0 0 1 1 2 0 1 2 0 2 2 2 2 0 2 0 1 0 0 0 1 1 0\n",
      " 1 0 0 2 2 0 1 1 0 0 1 1 1 2 2 1 1 0 1 0 1 0 2 2 1 1 1 1 2 1 1 0 2 0 0 0 2\n",
      " 0 1 2 0 2 0 0 2 2 0 1 0 0 1 1 2 1 2 2 2 2 1 2 2 2 0 2 1 2 0 0 1 1 2 2 2 2\n",
      " 1 1]\n"
     ]
    },
    {
     "data": {
      "text/plain": [
       "(array([0, 1, 2]), array([50, 50, 50], dtype=int64))"
      ]
     },
     "execution_count": 3,
     "metadata": {},
     "output_type": "execute_result"
    }
   ],
   "source": [
    "from sklearn.cluster import KMeans\n",
    "\n",
    "## 클러스터 개수: 3개로 지정(단점)\n",
    "\n",
    "## n_init = 10으로 설정, \n",
    "## k-평균 군집 알고리즘을 각기 다른 랜덤한 센트로이드에서 독립적으로 10번 실행하여 가장 낮은 SSE를 만드는 하나를 최종 모델로 선택\n",
    "\n",
    "## max_iter = 한 번의 실행에서 수행할 최대 반복 횟수\n",
    "## 사이킷런의 k-평균 구현은 최대 반복 횟수에 도달하기 전에 수럼하면, 일찍 종료.\n",
    "\n",
    "## tol = 수렴을 결정하는 클러스터 내 제곱 오차합의 변화량에 대한 허용 오차를 조정.\n",
    "## 수렴에 문제가 있다면 tol 매개변수 값을 늘리는 것이 한가지 방법\n",
    "\n",
    "## K-Means의 한가지 문제: 하나 이상의 빈 클러스터 존재 가능성.\n",
    "## --> 사이킷런의 k-평균은 이러한 문제 해결(한 클러스터가 비어있다면, 빈 클러스터의 센트로이드에서 가장 멀리 떨어진 샘플 찾는다.)\n",
    "## K-메도이드 / 퍼지 C-평균 에서 해결.\n",
    "\n",
    "## 거리 지표인 경우, 특성의 스케일이 같은 지 확인이 필수.\n",
    "\n",
    "km = KMeans(n_clusters=3,\n",
    "           init='random',\n",
    "           n_init=10,\n",
    "           max_iter=300,\n",
    "           tol=1e-04,\n",
    "           random_state=0)\n",
    "\n",
    "target_km = km.fit_predict(data)\n",
    "print(target_km)\n",
    "\n",
    "import numpy as np\n",
    "np.unique(target_km, return_counts=True)"
   ]
  },
  {
   "cell_type": "markdown",
   "id": "d19764cb",
   "metadata": {},
   "source": [
    "### 데이터셋에서 k-평균이 식별한 클러스터와 센트로이드 시각화"
   ]
  },
  {
   "cell_type": "code",
   "execution_count": 6,
   "id": "ad649691",
   "metadata": {},
   "outputs": [
    {
     "data": {
      "image/png": "[encoded data removed]",
      "text/plain": [
       "<Figure size 432x288 with 1 Axes>"
      ]
     },
     "metadata": {
      "needs_background": "light"
     },
     "output_type": "display_data"
    }
   ],
   "source": [
    "plt.scatter(data[target_km == 0, 0],\n",
    "            data[target_km == 0, 1],\n",
    "            s=50, c='lightgreen',\n",
    "            marker='s', edgecolor='black',\n",
    "            label='cluster 1'\n",
    "           )\n",
    "\n",
    "plt.scatter(data[target_km == 1, 0],\n",
    "            data[target_km == 1, 1],\n",
    "            s=50, c='orange',\n",
    "            marker='s', edgecolor='black',\n",
    "            label='cluster 2'\n",
    "           )\n",
    "\n",
    "plt.scatter(data[target_km == 2, 0],\n",
    "            data[target_km == 2, 1],\n",
    "            s=50, c='lightblue',\n",
    "            marker='s', edgecolor='black',\n",
    "            label='cluster 3'\n",
    "           )\n",
    "\n",
    "plt.scatter(km.cluster_centers_[:,0],\n",
    "            km.cluster_centers_[:,1],\n",
    "            s=250, c='red',\n",
    "            marker='*', edgecolor='black',\n",
    "            label='Centroids'            \n",
    "           )\n",
    "\n",
    "plt.legend(scatterpoints=1)\n",
    "plt.grid()\n",
    "plt.tight_layout()\n",
    "plt.show()"
   ]
  }
 ],
 "metadata": {
  "kernelspec": {
   "display_name": "Python 3 (ipykernel)",
   "language": "python",
   "name": "python3"
  },
  "language_info": {
   "codemirror_mode": {
    "name": "ipython",
    "version": 3
   },
   "file_extension": ".py",
   "mimetype": "text/x-python",
   "name": "python",
   "nbconvert_exporter": "python",
   "pygments_lexer": "ipython3",
   "version": "3.7.9"
  }
 },
 "nbformat": 4,
 "nbformat_minor": 5
}
