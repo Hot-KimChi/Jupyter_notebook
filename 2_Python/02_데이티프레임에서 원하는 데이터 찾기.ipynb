{
 "cells": [
  {
   "cell_type": "code",
   "execution_count": 2,
   "id": "f8eca56c",
   "metadata": {},
   "outputs": [
    {
     "name": "stdout",
     "output_type": "stream",
     "text": [
      "      Name Joined date  Salary  Status\n",
      "0   Hisila  2019-11-20     200  Junior\n",
      "1  Shristi  2020-01-02     400  Senior\n",
      "2    Zeppy  2020-02-05     300  Junior\n",
      "3    Alina  2020-03-10     500  Senior\n",
      "4    Jerry  2020-04-16     600  Senior\n",
      "5    Kevin  2020-05-01     300  Junior\n"
     ]
    }
   ],
   "source": [
    "import pandas as pd\n",
    "import numpy as np\n",
    "\n",
    "list_of_dates = ['2019-11-20', '2020-01-02', '2020-02-05','2020-03-10','2020-04-16','2020-05-01']\n",
    "employees = ['Hisila', 'Shristi','Zeppy','Alina','Jerry','Kevin']\n",
    "salary = [200,400,300,500,600,300]\n",
    "df = pd.DataFrame({\"Name\":employees,'Joined date': pd.to_datetime(list_of_dates),\"Salary\":salary})\n",
    "df['Status'] = [\"Senior\" if s >=400 else \"Junior\" for s in df['Salary']] \n",
    "print(df)"
   ]
  }
 ],
 "metadata": {
  "kernelspec": {
   "display_name": "Python 3 (ipykernel)",
   "language": "python",
   "name": "python3"
  },
  "language_info": {
   "codemirror_mode": {
    "name": "ipython",
    "version": 3
   },
   "file_extension": ".py",
   "mimetype": "text/x-python",
   "name": "python",
   "nbconvert_exporter": "python",
   "pygments_lexer": "ipython3",
   "version": "3.7.8"
  }
 },
 "nbformat": 4,
 "nbformat_minor": 5
}
